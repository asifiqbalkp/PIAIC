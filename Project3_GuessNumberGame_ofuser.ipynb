{
  "nbformat": 4,
  "nbformat_minor": 0,
  "metadata": {
    "colab": {
      "provenance": [],
      "authorship_tag": "ABX9TyN0/HA1WBf2Bc2nGGFdbJUb",
      "include_colab_link": true
    },
    "kernelspec": {
      "name": "python3",
      "display_name": "Python 3"
    },
    "language_info": {
      "name": "python"
    }
  },
  "cells": [
    {
      "cell_type": "markdown",
      "metadata": {
        "id": "view-in-github",
        "colab_type": "text"
      },
      "source": [
        "<a href=\"https://colab.research.google.com/github/asifiqbalkp/PIAIC/blob/main/Project3_GuessNumberGame_ofuser.ipynb\" target=\"_parent\"><img src=\"https://colab.research.google.com/assets/colab-badge.svg\" alt=\"Open In Colab\"/></a>"
      ]
    },
    {
      "cell_type": "code",
      "execution_count": null,
      "metadata": {
        "colab": {
          "base_uri": "https://localhost:8080/"
        },
        "id": "FD5AfS-SuqeZ",
        "outputId": "44f9439f-ee2f-4cb3-8dff-e697487e3212"
      },
      "outputs": [
        {
          "output_type": "stream",
          "name": "stdout",
          "text": [
            "Think of a number between 1 and 100, and I'll try to guess it!\n",
            "Press Enter when you're ready...\n",
            "Is your number 50?\n",
            "Enter 'too high', 'too low', or 'correct': too high\n",
            "Is your number 25?\n",
            "Enter 'too high', 'too low', or 'correct': too high\n",
            "Is your number 12?\n",
            "Enter 'too high', 'too low', or 'correct': too high\n",
            "Is your number 6?\n",
            "Enter 'too high', 'too low', or 'correct': too high\n",
            "Is your number 3?\n",
            "Enter 'too high', 'too low', or 'correct': too high\n",
            "Is your number 1?\n",
            "Enter 'too high', 'too low', or 'correct': correct\n",
            "Yay! I guessed your number in 6 attempts.\n"
          ]
        }
      ],
      "source": [
        "def computer_guess():\n",
        "    \"\"\"Computer guesses the user's number using binary search logic.\"\"\"\n",
        "    print(\"Think of a number between 1 and 100, and I'll try to guess it!\")\n",
        "    input(\"Press Enter when you're ready...\")\n",
        "\n",
        "    low = 1\n",
        "    high = 100\n",
        "    attempts = 0\n",
        "\n",
        "    while low <= high:\n",
        "        guess = (low + high) // 2  # Computer guesses the middle of the range\n",
        "        attempts += 1\n",
        "\n",
        "        print(f\"Is your number {guess}?\")\n",
        "        feedback = input(\"Enter 'too high', 'too low', or 'correct': \").strip().lower()\n",
        "\n",
        "        if feedback == \"correct\":\n",
        "            print(f\"Yay! I guessed your number in {attempts} attempts.\")\n",
        "            break\n",
        "        elif feedback == \"too high\":\n",
        "            high = guess - 1  # Adjust the upper bound\n",
        "        elif feedback == \"too low\":\n",
        "            low = guess + 1  # Adjust the lower bound\n",
        "        else:\n",
        "            print(\"Invalid input. Please enter 'too high', 'too low', or 'correct'.\")\n",
        "\n",
        "def main():\n",
        "    \"\"\"Main function to run the guessing game.\"\"\"\n",
        "    computer_guess()\n",
        "\n",
        "if __name__ == \"__main__\":\n",
        "    main()"
      ]
    }
  ]
}
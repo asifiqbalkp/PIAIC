{
  "nbformat": 4,
  "nbformat_minor": 0,
  "metadata": {
    "colab": {
      "provenance": [],
      "authorship_tag": "ABX9TyNUjGNHAfS8W3A2Rdb++0Pn",
      "include_colab_link": true
    },
    "kernelspec": {
      "name": "python3",
      "display_name": "Python 3"
    },
    "language_info": {
      "name": "python"
    }
  },
  "cells": [
    {
      "cell_type": "markdown",
      "metadata": {
        "id": "view-in-github",
        "colab_type": "text"
      },
      "source": [
        "<a href=\"https://colab.research.google.com/github/asifiqbalkp/PIAIC/blob/main/Project2_GuessNumberGame_computer.ipynb\" target=\"_parent\"><img src=\"https://colab.research.google.com/assets/colab-badge.svg\" alt=\"Open In Colab\"/></a>"
      ]
    },
    {
      "cell_type": "code",
      "execution_count": null,
      "metadata": {
        "colab": {
          "base_uri": "https://localhost:8080/"
        },
        "id": "PEyX_5fEs94f",
        "outputId": "7e950ec0-bc20-49e7-84cd-4af01404a803"
      },
      "outputs": [
        {
          "output_type": "stream",
          "name": "stdout",
          "text": [
            "Welcome to the Guess the Number Game!\n",
            "I'm thinking of a number between 1 and 100. Can you guess it?\n",
            "Enter your guess (1-100): 50\n",
            "Your guess is too low. Try again!\n",
            "Enter your guess (1-100): 98\n",
            "Your guess is too high. Try again!\n",
            "Enter your guess (1-100): 75\n",
            "Your guess is too low. Try again!\n",
            "Enter your guess (1-100): 85\n",
            "Your guess is too high. Try again!\n",
            "Enter your guess (1-100): 80\n",
            "Your guess is too low. Try again!\n",
            "Enter your guess (1-100): 83\n",
            "Your guess is too high. Try again!\n",
            "Enter your guess (1-100): 81\n",
            "Congratulations! You guessed the number in 7 attempts.\n"
          ]
        }
      ],
      "source": [
        "import random\n",
        "\n",
        "def generate_random_number():\n",
        "    \"\"\"Generate a random number between 1 and 100.\"\"\"\n",
        "    return random.randint(1, 100)\n",
        "\n",
        "def get_user_guess():\n",
        "    \"\"\"Get the user's guess and validate it.\"\"\"\n",
        "    while True:\n",
        "        try:\n",
        "            guess = int(input(\"Enter your guess (1-100): \"))\n",
        "            if 1 <= guess <= 100:\n",
        "                return guess\n",
        "            else:\n",
        "                print(\"Please enter a number between 1 and 100.\")\n",
        "        except ValueError:\n",
        "            print(\"Invalid input. Please enter a number.\")\n",
        "\n",
        "def check_guess(secret_number, guess):\n",
        "    \"\"\"Check if the user's guess is correct, too high, or too low.\"\"\"\n",
        "    if guess == secret_number:\n",
        "        return \"correct\"\n",
        "    elif guess < secret_number:\n",
        "        return \"too low\"\n",
        "    else:\n",
        "        return \"too high\"\n",
        "\n",
        "def main():\n",
        "    \"\"\"Main function to run the Guess the Number game.\"\"\"\n",
        "    print(\"Welcome to the Guess the Number Game!\")\n",
        "    print(\"I'm thinking of a number between 1 and 100. Can you guess it?\")\n",
        "\n",
        "    secret_number = generate_random_number()\n",
        "    attempts = 0\n",
        "\n",
        "    while True:\n",
        "        guess = get_user_guess()\n",
        "        attempts += 1\n",
        "\n",
        "        result = check_guess(secret_number, guess)\n",
        "\n",
        "        if result == \"correct\":\n",
        "            print(f\"Congratulations! You guessed the number in {attempts} attempts.\")\n",
        "            break\n",
        "        else:\n",
        "            print(f\"Your guess is {result}. Try again!\")\n",
        "\n",
        "if __name__ == \"__main__\":\n",
        "    main()"
      ]
    }
  ]
}
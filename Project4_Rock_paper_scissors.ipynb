{
  "nbformat": 4,
  "nbformat_minor": 0,
  "metadata": {
    "colab": {
      "provenance": [],
      "authorship_tag": "ABX9TyPy6fQgNY8TWna+EndeZTrK",
      "include_colab_link": true
    },
    "kernelspec": {
      "name": "python3",
      "display_name": "Python 3"
    },
    "language_info": {
      "name": "python"
    }
  },
  "cells": [
    {
      "cell_type": "markdown",
      "metadata": {
        "id": "view-in-github",
        "colab_type": "text"
      },
      "source": [
        "<a href=\"https://colab.research.google.com/github/asifiqbalkp/PIAIC/blob/main/Project4_Rock_paper_scissors.ipynb\" target=\"_parent\"><img src=\"https://colab.research.google.com/assets/colab-badge.svg\" alt=\"Open In Colab\"/></a>"
      ]
    },
    {
      "cell_type": "code",
      "execution_count": null,
      "metadata": {
        "id": "9VhNqchEjnzb"
      },
      "outputs": [],
      "source": [
        "import random\n",
        "\n",
        "def get_user_choice():\n",
        "    \"\"\"Get the user's choice (rock, paper, or scissors).\"\"\"\n",
        "    while True:\n",
        "        user_input = input(\"Enter your choice (rock, paper, scissors): \").strip().lower()\n",
        "        if user_input in [\"rock\", \"paper\", \"scissors\"]:\n",
        "            return user_input\n",
        "        else:\n",
        "            print(\"Invalid choice. Please choose 'rock', 'paper', or 'scissors'.\")\n",
        "\n",
        "def get_computer_choice():\n",
        "    \"\"\"Get the computer's choice randomly.\"\"\"\n",
        "    return random.choice([\"rock\", \"paper\", \"scissors\"])\n",
        "\n",
        "def determine_winner(user_choice, computer_choice):\n",
        "    \"\"\"Determine the winner based on the choices.\"\"\"\n",
        "    if user_choice == computer_choice:\n",
        "        return \"It's a tie!\"\n",
        "    elif (user_choice == \"rock\" and computer_choice == \"scissors\") or \\\n",
        "         (user_choice == \"paper\" and computer_choice == \"rock\") or \\\n",
        "         (user_choice == \"scissors\" and computer_choice == \"paper\"):\n",
        "        return \"You win!\"\n",
        "    else:\n",
        "        return \"You lose!\"\n",
        "\n",
        "def play_game():\n",
        "    \"\"\"Main function to play the Rock, Paper, Scissors game.\"\"\"\n",
        "    print(\"Welcome to Rock, Paper, Scissors!\")\n",
        "    user_choice = get_user_choice()\n",
        "    computer_choice = get_computer_choice()\n",
        "\n",
        "    print(f\"\\nYou chose: {user_choice}\")\n",
        "    print(f\"Computer chose: {computer_choice}\")\n",
        "\n",
        "    result = determine_winner(user_choice, computer_choice)\n",
        "    print(result)\n",
        "\n",
        "def main():\n",
        "    \"\"\"Run the game and ask if the user wants to play again.\"\"\"\n",
        "    while True:\n",
        "        play_game()\n",
        "        play_again = input(\"\\nDo you want to play again? (yes/no): \").strip().lower()\n",
        "        if play_again != \"yes\":\n",
        "            print(\"Thanks for playing! Goodbye!\")\n",
        "            break\n",
        "\n",
        "if __name__ == \"__main__\":\n",
        "    main()"
      ]
    }
  ]
}
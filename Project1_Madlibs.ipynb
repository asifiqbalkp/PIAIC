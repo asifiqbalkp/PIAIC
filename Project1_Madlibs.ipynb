{
  "nbformat": 4,
  "nbformat_minor": 0,
  "metadata": {
    "colab": {
      "provenance": [],
      "authorship_tag": "ABX9TyNtYcbQqIJH6/3BgVcE2yDY",
      "include_colab_link": true
    },
    "kernelspec": {
      "name": "python3",
      "display_name": "Python 3"
    },
    "language_info": {
      "name": "python"
    }
  },
  "cells": [
    {
      "cell_type": "markdown",
      "metadata": {
        "id": "view-in-github",
        "colab_type": "text"
      },
      "source": [
        "<a href=\"https://colab.research.google.com/github/asifiqbalkp/PIAIC/blob/main/Project1_Madlibs.ipynb\" target=\"_parent\"><img src=\"https://colab.research.google.com/assets/colab-badge.svg\" alt=\"Open In Colab\"/></a>"
      ]
    },
    {
      "cell_type": "code",
      "execution_count": null,
      "metadata": {
        "colab": {
          "base_uri": "https://localhost:8080/"
        },
        "id": "nkOwrVMUsbJu",
        "outputId": "0a41677b-ff07-4bb9-f611-0025f3c027f0"
      },
      "outputs": [
        {
          "output_type": "stream",
          "name": "stdout",
          "text": [
            "Welcome to the Personalized Greeting Generator!\n",
            "What's your name? asif\n",
            "How old are you? 47\n",
            "Hello, asif! You are 47 years old.\n"
          ]
        }
      ],
      "source": [
        "def get_user_input():\n",
        "    \"\"\"Get the user's name and age.\"\"\"\n",
        "    name = input(\"What's your name? \").strip()\n",
        "    age = input(\"How old are you? \").strip()\n",
        "    return name, age\n",
        "\n",
        "def generate_greeting(name, age):\n",
        "    \"\"\"Generate a personalized greeting using f-strings.\"\"\"\n",
        "    greeting = f\"Hello, {name}! You are {age} years old.\"\n",
        "    return greeting\n",
        "\n",
        "def main():\n",
        "    \"\"\"Main function to run the program.\"\"\"\n",
        "    print(\"Welcome to the Personalized Greeting Generator!\")\n",
        "    name, age = get_user_input()\n",
        "    greeting = generate_greeting(name, age)\n",
        "    print(greeting)\n",
        "\n",
        "if __name__ == \"__main__\":\n",
        "    main()"
      ]
    }
  ]
}
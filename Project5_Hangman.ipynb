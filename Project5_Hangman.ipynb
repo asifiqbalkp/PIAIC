{
  "nbformat": 4,
  "nbformat_minor": 0,
  "metadata": {
    "colab": {
      "provenance": [],
      "authorship_tag": "ABX9TyP7EYwRqbj14zRBemNJi8iG",
      "include_colab_link": true
    },
    "kernelspec": {
      "name": "python3",
      "display_name": "Python 3"
    },
    "language_info": {
      "name": "python"
    }
  },
  "cells": [
    {
      "cell_type": "markdown",
      "metadata": {
        "id": "view-in-github",
        "colab_type": "text"
      },
      "source": [
        "<a href=\"https://colab.research.google.com/github/asifiqbalkp/PIAIC/blob/main/Project5_Hangman.ipynb\" target=\"_parent\"><img src=\"https://colab.research.google.com/assets/colab-badge.svg\" alt=\"Open In Colab\"/></a>"
      ]
    },
    {
      "cell_type": "code",
      "execution_count": null,
      "metadata": {
        "colab": {
          "base_uri": "https://localhost:8080/"
        },
        "id": "c7qt2pbwwqGg",
        "outputId": "f5b43cf2-ee04-4b15-9078-02a7cf5c65af"
      },
      "outputs": [
        {
          "output_type": "stream",
          "name": "stdout",
          "text": [
            "Welcome to Hangman!\n",
            "\n",
            "_ _ _ _ _ _\n",
            "Guess a letter: hello\n",
            "Invalid input. Enter a single letter.\n",
            "\n",
            "_ _ _ _ _ _\n",
            "Guess a letter: h\n",
            "Correct!\n",
            "\n",
            "_ h _ _ _ _\n",
            "Guess a letter: o\n",
            "Wrong! 5 attempts left.\n",
            "\n",
            "_ h _ _ _ _\n",
            "Guess a letter: h\n",
            "You already guessed that letter.\n",
            "\n",
            "_ h _ _ _ _\n",
            "Guess a letter: r\n",
            "Correct!\n",
            "\n",
            "_ h _ r r _\n",
            "Guess a letter: a\n",
            "Wrong! 4 attempts left.\n",
            "\n",
            "_ h _ r r _\n",
            "Guess a letter: e\n",
            "Correct!\n",
            "\n",
            "_ h e r r _\n",
            "Guess a letter: y\n",
            "Correct!\n",
            "\n",
            "_ h e r r y\n",
            "Guess a letter: s\n",
            "Wrong! 3 attempts left.\n",
            "\n",
            "_ h e r r y\n",
            "Guess a letter: g\n",
            "Wrong! 2 attempts left.\n",
            "\n",
            "_ h e r r y\n",
            "Guess a letter: f\n",
            "Wrong! 1 attempts left.\n",
            "\n",
            "_ h e r r y\n",
            "Guess a letter: w\n",
            "Wrong! 0 attempts left.\n",
            "Game over! The word was: cherry\n"
          ]
        }
      ],
      "source": [
        "import random\n",
        "\n",
        "def get_random_word():\n",
        "    words = [\"apple\", \"banana\", \"cherry\", \"mango\", \"orange\"]\n",
        "    return random.choice(words)\n",
        "\n",
        "def display_word(word, guessed):\n",
        "    return \" \".join([letter if letter in guessed else \"_\" for letter in word])\n",
        "\n",
        "def hangman():\n",
        "    print(\"Welcome to Hangman!\")\n",
        "    word = get_random_word()\n",
        "    guessed = set()\n",
        "    attempts = 6\n",
        "\n",
        "    while attempts > 0:\n",
        "        print(\"\\n\" + display_word(word, guessed))\n",
        "        guess = input(\"Guess a letter: \").lower()\n",
        "\n",
        "        if len(guess) != 1 or not guess.isalpha():\n",
        "            print(\"Invalid input. Enter a single letter.\")\n",
        "            continue\n",
        "\n",
        "        if guess in guessed:\n",
        "            print(\"You already guessed that letter.\")\n",
        "            continue\n",
        "\n",
        "        guessed.add(guess)\n",
        "\n",
        "        if guess in word:\n",
        "            print(\"Correct!\")\n",
        "            if all(letter in guessed for letter in word):\n",
        "                print(\"You win! The word was:\", word)\n",
        "                return\n",
        "        else:\n",
        "            attempts -= 1\n",
        "            print(f\"Wrong! {attempts} attempts left.\")\n",
        "\n",
        "    print(\"Game over! The word was:\", word)\n",
        "\n",
        "if __name__ == \"__main__\":\n",
        "    hangman()\n"
      ]
    }
  ]
}